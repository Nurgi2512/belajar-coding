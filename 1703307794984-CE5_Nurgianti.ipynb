{
  "nbformat": 4,
  "nbformat_minor": 5,
  "metadata": {
    "kernelspec": {
      "display_name": "Python 3",
      "language": "python",
      "name": "python3"
    },
    "language_info": {
      "codemirror_mode": {
        "name": "ipython",
        "version": 3
      },
      "file_extension": ".py",
      "mimetype": "text/x-python",
      "name": "python",
      "nbconvert_exporter": "python",
      "pygments_lexer": "ipython3",
      "version": "3.8.5"
    },
    "colab": {
      "provenance": []
    }
  },
  "cells": [
    {
      "cell_type": "markdown",
      "metadata": {
        "id": "rgyHha0XVqWk"
      },
      "source": [
        "## Welcome to Coding challenge 5\n",
        "**Kamu hanya diminta untuk menyelesaikan 2 pertanyaan**\n"
      ],
      "id": "rgyHha0XVqWk"
    },
    {
      "cell_type": "markdown",
      "metadata": {
        "id": "yYHzZQQ7VqWo"
      },
      "source": [
        "### Question 1\n",
        "### \"Shifting Members of an Array\""
      ],
      "id": "yYHzZQQ7VqWo"
    },
    {
      "cell_type": "markdown",
      "metadata": {
        "id": "HnQ0f2qIVqWp"
      },
      "source": [
        "Pada pertanyaan ini, kita ingin menggeser array ke kanan. seberapa banyak?\n",
        "Tergantung dari input\n",
        "\n",
        "##### Example 1:\n",
        "array = [1,2,3,4,5]\n",
        "steps = 3\n",
        "\n",
        "Kita harus menggeser array 3 langkah ke kanan.\n",
        "- Original array = [1,2,3,4,5]\n",
        "- Step 1 = [5,1,2,3,4]\n",
        "- Step 2 = [4,5,1,2,3]\n",
        "- Step 3 = [3,4,5,1,2]\n",
        "\n",
        "Answer = [3,4,5,1,2]\n",
        "\n",
        "##### Example 2:\n",
        "array = [1,2,3]\n",
        "steps = 5\n",
        "\n",
        "Kita harus menggeser array 3 langkah ke kanan.\n",
        "\n",
        "- Original array = [1,2,3]\n",
        "- Step 1 = [3,1,2]\n",
        "- Step 2 = [2,3,1]\n",
        "- Step 3 = [1,2,3]\n",
        "- Step 4 = [3,1,2]\n",
        "- Step 5 = [2,3,1]\n",
        "\n",
        "Answer = [2,3,1]"
      ],
      "id": "HnQ0f2qIVqWp"
    },
    {
      "cell_type": "code",
      "source": [
        "### Write your function here ###\n",
        "def shift(array, steps):\n",
        "    for i in range(steps):\n",
        "        index = len(array) - 1  # Index diisi paling kanan\n",
        "        nilai = array[index]  # Nilai elemen paling kanan disimpan\n",
        "\n",
        "        while index > 0:\n",
        "            array[index] = array[index - 1]\n",
        "            index -= 1\n",
        "\n",
        "        array[0] = nilai\n",
        "\n",
        "    return array"
      ],
      "metadata": {
        "id": "c5jOwXsHA-zn"
      },
      "id": "c5jOwXsHA-zn",
      "execution_count": 1,
      "outputs": []
    },
    {
      "cell_type": "code",
      "metadata": {
        "id": "qpDQUNijXhd7",
        "colab": {
          "base_uri": "https://localhost:8080/"
        },
        "outputId": "f1269e7e-479c-4162-ca88-58d5db736896"
      },
      "source": [
        "shift([1,2,3,4,5],4)\n",
        "\n",
        "# Expected Output: [2, 3, 4, 5, 1]"
      ],
      "id": "qpDQUNijXhd7",
      "execution_count": 2,
      "outputs": [
        {
          "output_type": "execute_result",
          "data": {
            "text/plain": [
              "[2, 3, 4, 5, 1]"
            ]
          },
          "metadata": {},
          "execution_count": 2
        }
      ]
    },
    {
      "cell_type": "code",
      "metadata": {
        "id": "jnr5znJUVqWr",
        "colab": {
          "base_uri": "https://localhost:8080/"
        },
        "outputId": "628e1676-73d5-4ff6-ad9f-3529251a4a00"
      },
      "source": [
        "shift(['andi', 'budi', 'charlie', 'doni'],7)\n",
        "\n",
        "# Expected Output: ['budi', 'charlie', 'doni', 'andi']"
      ],
      "id": "jnr5znJUVqWr",
      "execution_count": 3,
      "outputs": [
        {
          "output_type": "execute_result",
          "data": {
            "text/plain": [
              "['budi', 'charlie', 'doni', 'andi']"
            ]
          },
          "metadata": {},
          "execution_count": 3
        }
      ]
    },
    {
      "cell_type": "code",
      "metadata": {
        "id": "LJaWSk-sW9ak",
        "colab": {
          "base_uri": "https://localhost:8080/"
        },
        "outputId": "5d3bb726-ade9-4f1d-f1fa-a7d67adce347"
      },
      "source": [
        "shift(['di', 'bim', 'bing', 123, 'data', 'science'],10)\n",
        "\n",
        "# Expected Output: ['bing', 123, 'data', 'science', 'di', 'bim']"
      ],
      "id": "LJaWSk-sW9ak",
      "execution_count": 4,
      "outputs": [
        {
          "output_type": "execute_result",
          "data": {
            "text/plain": [
              "['bing', 123, 'data', 'science', 'di', 'bim']"
            ]
          },
          "metadata": {},
          "execution_count": 4
        }
      ]
    },
    {
      "cell_type": "markdown",
      "metadata": {
        "id": "MRxU2bsKVqWs"
      },
      "source": [
        "### Question 2.\n",
        "### \"Segitiga Paskal\""
      ],
      "id": "MRxU2bsKVqWs"
    },
    {
      "cell_type": "markdown",
      "metadata": {
        "id": "hBUS1vtjVqWs"
      },
      "source": [
        "Kita akan membuat segitiga paskal sebanyak n-baris. fungsi yang dibuat harus bernama ```pascal```. Apabila belum mengetahui apa itu segitiga paskal, silahkan lihat video:https://www.youtube.com/watch?v=1D3KsvfB8b0 dan baca https://www.mathsisfun.com/pascals-triangle.html\n",
        "\n",
        "##### Example 1:\n",
        "Input = 4,\n",
        "\n",
        "Answer = [1,4,6,4,1]\n",
        "\n",
        "##### Example 2:\n",
        "input = 3,\n",
        "\n",
        "Answer = [1,3,3,1]\n",
        "\n"
      ],
      "id": "hBUS1vtjVqWs"
    },
    {
      "cell_type": "code",
      "source": [
        "def pascal(input):\n",
        "    if input == 0:\n",
        "        array = [1]\n",
        "    elif input == 1:\n",
        "        array = [1, 1]\n",
        "    else:\n",
        "        arraya = [1, 1]\n",
        "\n",
        "        for z in range(1, input):\n",
        "            arrayb = [1]\n",
        "\n",
        "            for x in range(len(arraya) - 1):\n",
        "                arrayb.append(arraya[x] + arraya[x + 1])\n",
        "\n",
        "            arrayb.append(1)\n",
        "            arraya = arrayb\n",
        "\n",
        "        array = arraya\n",
        "\n",
        "    return array\n"
      ],
      "metadata": {
        "id": "rOquI_MK7o3y"
      },
      "id": "rOquI_MK7o3y",
      "execution_count": 5,
      "outputs": []
    },
    {
      "cell_type": "code",
      "source": [
        "pascal(4)"
      ],
      "metadata": {
        "id": "x_ze6cW13Ar5",
        "colab": {
          "base_uri": "https://localhost:8080/"
        },
        "outputId": "8777502e-edcb-42c3-c2e7-d5cba3ef884a"
      },
      "id": "x_ze6cW13Ar5",
      "execution_count": 6,
      "outputs": [
        {
          "output_type": "execute_result",
          "data": {
            "text/plain": [
              "[1, 4, 6, 4, 1]"
            ]
          },
          "metadata": {},
          "execution_count": 6
        }
      ]
    },
    {
      "cell_type": "code",
      "source": [
        "pascal (3)"
      ],
      "metadata": {
        "id": "IbHIFCWR8HoS",
        "colab": {
          "base_uri": "https://localhost:8080/"
        },
        "outputId": "afc61479-8a79-4250-da36-57e66b757c22"
      },
      "id": "IbHIFCWR8HoS",
      "execution_count": 7,
      "outputs": [
        {
          "output_type": "execute_result",
          "data": {
            "text/plain": [
              "[1, 3, 3, 1]"
            ]
          },
          "metadata": {},
          "execution_count": 7
        }
      ]
    },
    {
      "cell_type": "markdown",
      "metadata": {
        "id": "UJFlJIG_VqWv"
      },
      "source": [
        "### Question 3"
      ],
      "id": "UJFlJIG_VqWv"
    },
    {
      "cell_type": "markdown",
      "metadata": {
        "id": "q_vw2BtGVqWv"
      },
      "source": [
        "### \"Jarak maksimal antara 3 titik\""
      ],
      "id": "q_vw2BtGVqWv"
    },
    {
      "cell_type": "markdown",
      "metadata": {
        "id": "k6qNbSInVqWw"
      },
      "source": [
        "Terdapat 3 koordinat, tentukan jarak antar 2 titik mana yang memiliki jarak terjauh, dan berikan output jarak kedua titik tersebut. fungsi yang anda buat haurs bernama ```max_ditance```. titik koordinat pertama disebut 'A', titik kedua disebut'B', dan titik ketiga disebut 'C'\n",
        "\n",
        "##### Example:\n",
        "A = [1,2],\n",
        "B = [10,-10],\n",
        "C = [-3, 5]\n",
        "\n",
        "- The distance between AB = 15\n",
        "- The distance between BC = 19.8\n",
        "- The distance between AC = 5.0\n",
        "\n",
        "Answer = \"The point B,C are furthest apart with distance 19.8\"\n"
      ],
      "id": "k6qNbSInVqWw"
    },
    {
      "cell_type": "code",
      "metadata": {
        "id": "la5u9FV4VqWw"
      },
      "source": [
        "### Write your solution here ###\n",
        "def max_distance(A,B,C):\n",
        "    return"
      ],
      "id": "la5u9FV4VqWw",
      "execution_count": 8,
      "outputs": []
    },
    {
      "cell_type": "code",
      "source": [
        "import math\n",
        "\n",
        "def distance(x1_y1, x2_y2):\n",
        "    return math.sqrt((x1_y1[0] - x2_y2[0])**2 + (x1_y1[1] - x2_y2[1])**2)\n",
        "\n",
        "def max_distance(A, B, C):\n",
        "    distance_AB = distance(A, B)\n",
        "    distance_BC = distance(B, C)\n",
        "    distance_AC = distance(A, C)\n",
        "\n",
        "    max_dist = max(distance_AB, distance_BC, distance_AC)\n",
        "\n",
        "    if max_dist == distance_AB:\n",
        "        return f\"The point A,B are furthest apart with distance {max_dist:.1f}\"\n",
        "    elif max_dist == distance_BC:\n",
        "        return f\"The point B,C are furthest apart with distance {max_dist:.1f}\"\n",
        "    else:\n",
        "        return f\"The point A,C are furthest apart with distance {max_dist:.1f}\"\n",
        "\n",
        "# Example\n",
        "A = [1, 2]\n",
        "B = [10, -10]\n",
        "C = [-3, 5]\n",
        "\n",
        "result = max_distance(A, B, C)\n",
        "print(result)\n"
      ],
      "metadata": {
        "id": "uqOqkRjC82NI",
        "colab": {
          "base_uri": "https://localhost:8080/"
        },
        "outputId": "e0d899c6-b505-45e4-a3f0-71624f7100ba"
      },
      "id": "uqOqkRjC82NI",
      "execution_count": 9,
      "outputs": [
        {
          "output_type": "stream",
          "name": "stdout",
          "text": [
            "The point B,C are furthest apart with distance 19.8\n"
          ]
        }
      ]
    }
  ]
}